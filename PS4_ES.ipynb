{
 "cells": [
  {
   "cell_type": "code",
   "execution_count": 41,
   "metadata": {},
   "outputs": [
    {
     "name": "stdin",
     "output_type": "stream",
     "text": [
      "Enter the scientific name of species from Greece that you are interested e.g Chrysolina vernalis :  Chrysolina vernalis\n"
     ]
    },
    {
     "name": "stdout",
     "output_type": "stream",
     "text": [
      "There are 12 observations for Chrysolina vernalis from Greece that included in iNaturalist dataset\n"
     ]
    }
   ],
   "source": [
    "#I selected to interact with iNaturalist's API.\n",
    "#This script will be able to search for a specific species in Greece and give the number of observations that been reported to iNaturalist database.\n",
    "#The results are going to be exported into csv file\n",
    "#Also, as an additional step I tried to write code that will report the overall data that exist in iNaturalist's API but I keep getting the wrong Numbers. That's the code part hich is double-hashtag \n",
    "\n",
    "# import modules needed\n",
    "import urllib.parse, urllib.request, urllib.error\n",
    "import requests\n",
    "\n",
    "# use API from iNaturalist's and the search on the taxon section\n",
    "main_api = 'https://api.inaturalist.org/v1/search?'\n",
    "\n",
    "species_ID = input('Enter the scientific name of species from Greece that you are interested e.g Chrysolina vernalis : ')\n",
    "url = main_api + urllib.parse.urlencode({'q': species_ID})\n",
    "\n",
    "# create a temp json file from iNaturalist api search\n",
    "DATA = requests.get(url).json()\n",
    "\n",
    "# get total results\n",
    "total_results = DATA['total_results']\n",
    "\n",
    "# Print message in case of not specific input\n",
    "if total_results > 1:\n",
    "    print(str(total_results) +\" species found. Please be aware that you can see only one specie each time\")\n",
    "\n",
    "# Print message in case of incorrect input or input that does not belong to Greece    \n",
    "elif total_results == 0:\n",
    "    print(\"No species found in iNaturalist's database or the species you are looking for do not belong to Greek fauna or flora. Please, try again.\")\n",
    "    \n",
    "# if search was succesful, get taxon's id\n",
    "taxon_id = str((DATA['results'][0]['record']['id']))\n",
    "\n",
    "# use taxon id to search api for observations only in Greece\n",
    "#Greece has place_id=7094 in iNaturalist's API\n",
    "GR_occurences_url = 'https://api.inaturalist.org/v1/observations?place_id=7094&taxon_id='\n",
    "total_GR_occurences_url = GR_occurences_url + taxon_id\n",
    "\n",
    "## use taxon id to search api for total observations\n",
    "## obs_url = 'https://api.inaturalist.org/v1/observations?place_id=any'\n",
    "## total_obs_url = obs_url + taxon_id\n",
    "\n",
    "## use taxon id to search api for total species included in the dataset\n",
    "## spp_url = 'https://api.inaturalist.org/v1/observations?place_id=any&view=species'\n",
    "## total_spp_url = spp_url + taxon_id\n",
    "\n",
    "## use taxon id to search api for total identifiers in the dataset\n",
    "## ids_url = 'https://api.inaturalist.org/v1/observations?place_id=any&view=identifiers'\n",
    "## total_ids_url = ids_url + taxon_id\n",
    "\n",
    "## use taxon id to search api for total observers\n",
    "## ppl_url = 'https://api.inaturalist.org/v1/observations?place_id=any&view=observers'\n",
    "## total_ppl_url = ppl_url + taxon_id\n",
    "\n",
    "# create temp file for API search\n",
    "temp_GR_occurences = requests.get(total_GR_occurences_url).json()\n",
    "\n",
    "## total_obs = requests.get(total_obs_url).json()\n",
    "## total_spp = requests.get(total_spp_url).json()\n",
    "## total_ids = requests.get(total_ids_url).json()\n",
    "## total_ppl = requests.get(total_ppl_url).json()\n",
    "\n",
    "# Code for converting temp json file to csv\n",
    "csv_results = temp_GR_occurences['results']\n",
    "csv_file = open('csv_file.csv', 'w') \n",
    "csv_writer = csv.writer(csv_file) \n",
    "count = 0\n",
    "\n",
    "for row in csv_results:\n",
    "    if count == 0:\n",
    "    # headers of csv file\n",
    "        header = row.keys()\n",
    "        csv_writer.writerow(header)\n",
    "        count += 1        \n",
    "        # export data of CSV file\n",
    "        csv_writer.writerow(row.values())\n",
    "\n",
    "total_GR_observations = temp_GR_occurences['total_results']\n",
    "\n",
    "#total_obs = total_obs['total_results']\n",
    "#total_spp = total_spp['total_results']\n",
    "#total_ids = total_ids['total_results']\n",
    "#total_ppl = total_ppl['total_results']\n",
    "\n",
    "print(\"There are \" + str(total_GR_observations) + \n",
    "        \" observations for \" + str(species_ID) + \n",
    "         \" from Greece that included in iNaturalist dataset\")\n",
    "\n",
    "#print( \"iNaturalist Global Data:\"\n",
    "#      \"Total Observations\"  + str(total_obs) +\n",
    "#      \"Total Species\"  + str(total_spp) +\n",
    "#      \"Total Identifiers\"  + str(total_ids) +\n",
    "#      \"Total Observers\"  + str(total_ppl) )\n"
   ]
  },
  {
   "cell_type": "code",
   "execution_count": null,
   "metadata": {},
   "outputs": [],
   "source": []
  }
 ],
 "metadata": {
  "kernelspec": {
   "display_name": "Python 3.8 (basic)",
   "language": "python",
   "name": "python3"
  },
  "language_info": {
   "codemirror_mode": {
    "name": "ipython",
    "version": 3
   },
   "file_extension": ".py",
   "mimetype": "text/x-python",
   "name": "python",
   "nbconvert_exporter": "python",
   "pygments_lexer": "ipython3",
   "version": "3.8.1"
  }
 },
 "nbformat": 4,
 "nbformat_minor": 4
}
